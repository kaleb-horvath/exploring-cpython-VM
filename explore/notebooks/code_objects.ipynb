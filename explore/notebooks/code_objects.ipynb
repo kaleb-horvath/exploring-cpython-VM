{
 "cells": [
  {
   "cell_type": "markdown",
   "metadata": {},
   "source": [
    "#### Ensuring environment"
   ]
  },
  {
   "cell_type": "code",
   "execution_count": 1,
   "metadata": {},
   "outputs": [
    {
     "name": "stdout",
     "output_type": "stream",
     "text": [
      "Python 3.7.17\n",
      "/home/chairs/workspace/personal-projects/lisp-compiler/quickLi/venv/bin/python\n"
     ]
    }
   ],
   "source": [
    "!python --version\n",
    "!which python"
   ]
  },
  {
   "cell_type": "markdown",
   "metadata": {},
   "source": [
    "#### Exploring dis module"
   ]
  },
  {
   "cell_type": "code",
   "execution_count": null,
   "metadata": {},
   "outputs": [
    {
     "name": "stderr",
     "output_type": "stream",
     "text": [
      "/home/chairs/workspace/personal-projects/lisp-compiler/quickLi/venv/lib/python3.7/site-packages/ipykernel_launcher.py:10: DeprecationWarning: the imp module is deprecated in favour of importlib; see the module's documentation for alternative uses\n",
      "  # Remove the CWD from sys.path while we load stuff.\n"
     ]
    }
   ],
   "source": [
    "import sys, struct\n",
    "import dis \n",
    "import opcode\n",
    "import types\n",
    "import re\n",
    "\n",
    "import marshal \n",
    "import struct \n",
    "import time\n",
    "import imp \n",
    "import opcode \n",
    "import types"
   ]
  },
  {
   "cell_type": "markdown",
   "metadata": {},
   "source": [
    "**Notes**\n",
    "\n",
    "To compile a string containing Python source code and return a code object containing stack machine instructions and relevant memory addresses.\n",
    "`compile(source, filename, mode, flag, dont_inherit, optimize)`\\\n",
    "`source` - String, Bytes object, or AST object. source code to compile\\\n",
    "`filenme` - String, location of source code string if applicable\\\n",
    "`mode` - robustness of call (exec, eval, single, etc.)"
   ]
  },
  {
   "cell_type": "code",
   "execution_count": 4,
   "metadata": {},
   "outputs": [
    {
     "data": {
      "text/plain": [
       "b'd\\x00Z\\x00e\\x00d\\x017\\x00Z\\x00e\\x01e\\x00\\x83\\x01\\x01\\x00d\\x02S\\x00'"
      ]
     },
     "execution_count": 4,
     "metadata": {},
     "output_type": "execute_result"
    }
   ],
   "source": [
    "c.co_code"
   ]
  },
  {
   "cell_type": "markdown",
   "metadata": {},
   "source": [
    "The result is a bytes literal which is prefixed with b'. It is an immutable sequence of bytes and has a type of bytes. Each byte can have a decimal value of 0 to 255. So a bytes literal is an immutable sequence of integers between 0 to 255. Each byte can be shown by an ASCII character whose character code is the same as the byte value or it can be shown by a leading \\x followed by two characters. The leading \\x escape means that the next two characters are interpreted as hex digits for the character code."
   ]
  },
  {
   "cell_type": "markdown",
   "metadata": {},
   "source": [
    "When the interpreter executes EXTENDED_ARG, its oparg (which is 1) is left-shifted by eight bits and stored in a temporary variable. Let’s call it extended_arg (do not confuse it with the opname EXTENDED_ARG). So the binary value 0b1 (the binary value of 1) is converted to 0b100000000. This is like multiplying 1 by 256 in the decimal system and extened_arg will be equal to 256. Now we have two bytes in extened_arg. When the interpreter reaches to the next instruction, this two-byte value is added to its oparg (which is 4 here) using a bitwise or\\\n",
    "`EXTENDED_ARG 1`\\\n",
    "`CALL_FUNCTION 4`\\\n",
    "is interpreted as:\n",
    "\n",
    "`EXTENDED_ARG 1`\\\n",
    "`CALL_FUNCTION 260`"
   ]
  },
  {
   "cell_type": "code",
   "execution_count": 2,
   "metadata": {},
   "outputs": [],
   "source": [
    "# sometimes we have opargs that do not fit in the default one byte\n",
    "extended_arg = 1 << 8 # same as 1 * 256\n",
    "extended_arg = extended_arg | 4\n",
    "# extended_arg = 256 + 4 = 260"
   ]
  },
  {
   "cell_type": "markdown",
   "metadata": {},
   "source": [
    "### notes on compiler project\n",
    "primitive operations in quickLi should rely on native compilation routines in the dis module rather than manually emitting the corresponding instructions into a code object. for example, \n",
    "`(+ 5 1)` should become a Python source string `5 + 1` rather than bytecode. Then we will use dis to compile it. For now. This could be accomplished using pre-fix to infix conversion with a stack."
   ]
  },
  {
   "cell_type": "code",
   "execution_count": 22,
   "metadata": {},
   "outputs": [
    {
     "data": {
      "text/plain": [
       "''"
      ]
     },
     "execution_count": 22,
     "metadata": {},
     "output_type": "execute_result"
    }
   ],
   "source": [
    "\"\"\"\n",
    "BST approach: covnert the prefix expression to an infix expression and use dis module to compile and run\n",
    "Emit approach: use Lisp/prefix expression to parsed tokens. walk with recursive decent routine and emit an Intermediate\n",
    "Representation (infix expression) and then use dis module to compile and run.\n",
    "\"\"\""
   ]
  },
  {
   "cell_type": "code",
   "execution_count": null,
   "metadata": {},
   "outputs": [],
   "source": [
    "\n",
    "\"\"\"\n",
    "\n",
    "\n",
    "postfix_expr = ''\n",
    "prec_stack = []\n",
    "prec_primops = {\n",
    "    '+': 1,\n",
    "    '-': 1,\n",
    "    '*': 2,\n",
    "    '/': 2\n",
    "}\n",
    " http://127.0.0.1:8888/?token=6cb5749f737bfd601319e869079e0b82617f443291dce0a8en(prec_stack == 0)) and (primops_prec[tos_character] >= current_prec):\n",
    "                    postfix_expr += prec_stack.pop()\n",
    "                prec_stack.push(c)\n",
    "\n",
    "    for j in range(0, len(prec_stack)):\n",
    "        postfix_expr += prec_stack.pop()\n",
    "\"\"\""
   ]
  },
  {
   "cell_type": "code",
   "execution_count": 38,
   "metadata": {},
   "outputs": [],
   "source": [
    "\n",
    "\n",
    "symbol_type = str \n",
    "number_type = (int, float)\n",
    "boolean_type = (False, True)\n",
    "list_type = list \n",
    "\n",
    "# primitive special forms\n",
    "symbol_define = symbol_type('define')\n",
    "symbol_lambda = symbol_type('lambda')\n",
    "symbol_if = symbol_type('if')\n",
    "symbol_set = symbol_type('set!')\n",
    "symbol_quote = symbol_type('quote')\n",
    "symbol_begin = symbol_type('begin')\n",
    "symbol_cond = symbol_type('cond')\n",
    "\n",
    "\n",
    "# primitive procedures (regular forms?)\n",
    "\n",
    "def tokenize_source (lines, brackets=False):\n",
    "\n",
    "    # format the 'lines' of the quickLi expression (redundant replace calls?)\n",
    "    tokens = ''.join([l.rstrip() for l in lines if ';' not in l and not (l.isspace() or l == '')])\\\n",
    "        .replace('\\t', '')\\\n",
    "        .replace('\\n', '')\\\n",
    "        .replace('(', ' ( ').replace(')', ' ) ')\\\n",
    "        .replace('*', ' * ').replace('/', ' / ')\\\n",
    "        .replace('+', ' + ').replace('-', ' - ').split()\n",
    "\n",
    "    final_tokens = [] \n",
    "    \n",
    "    '''\n",
    "    for tok in tokens:\n",
    "        if tok in ['(', ')']:\n",
    "            if brackets: final_tokens.append(tok)\n",
    "            else:\n",
    "                pass \n",
    "        else:\n",
    "            if not bool(re.search(r'\\s', tok)):\n",
    "                final_tokens.append(tok)\n",
    "\n",
    "    return final_tokens\n",
    "    '''\n",
    "    pattern = r'^(\\(|\\)|\\(\\(|\\s)' if not brackets else r'\\s'\n",
    "    return [\n",
    "        tok for tok in tokens if not bool(re.search(pattern, tok))\n",
    "    ]\n",
    "\n",
    "def native_type (token):\n",
    "    if token == '#t': return boolean_type[1]\n",
    "    if token == '#f': return boolean_type[0]\n",
    "    else:\n",
    "        try:\n",
    "            return number_type[0](token)\n",
    "        except ValueError:\n",
    "            try:\n",
    "                return number_type[1](token)\n",
    "            except ValueError:\n",
    "                return symbol_type(token)\n",
    "\n",
    "def parse (tokens):\n",
    "    # using a stack to validate balanced parenthesis and be able to go back out of recursive branches of expressions\n",
    "    # (recursive s_expr descent)\n",
    "    # will build a nested list holding each s_expression in desired order of execution, acting as our syntax tree\n",
    "    # (since we are not storing each token as an object, we do not have the capability to stored attributes which makes debugging near impossible)\n",
    "    # (this is a quick and dirty parser)\n",
    "    try:\n",
    "        if len(tokens) == 0: sys.exit('no tokens')\n",
    "        token = tokens.pop(0)\n",
    "\n",
    "        if token is '(':\n",
    "            L = []\n",
    "            while tokens[0] != ')':\n",
    "                L.append(parse(tokens))\n",
    "            tokens.pop(0)\n",
    "            return L\n",
    "        elif token is ')': sys.exit('expected \\'(\\' for beginning of expression')\n",
    "        else:\n",
    "            return native_type(token)\n",
    "\n",
    "    except Exception:\n",
    "        sys.exit('unknown parser failure')\n",
    "\n",
    "\n",
    "def infix_converter (s_expr_tokens):\n",
    "    stack = []\n",
    "\n",
    "    i = len(s_expr_tokens) - 1\n",
    "    while i >= 0:\n",
    "        current_tok = s_expr_tokens[i]\n",
    "\n",
    "        if not is_operator(current_tok):\n",
    "            stack.append(current_tok)\n",
    "            i -= 1 \n",
    "        else:\n",
    "            expr = \"(\" + stack.pop() + current_tok + stack.pop() + \")\"\n",
    "            stack.append(expr)\n",
    "            i -= 1\n",
    "    \n",
    "    return stack.pop()\n",
    "\n",
    "def is_primitive_builtin (c):\n",
    "    import operator, math\n",
    "    builtin_functions = {\n",
    "        \"*\": lambda *args: reduce(operator.mul, args), \n",
    "        \"+\": sum, \n",
    "        \"-\": lambda *args: reduce(operator.sub, args), \n",
    "        \"/\": lambda *args: reduce(operator.div, args), \n",
    "        \"^\": math.pow, \n",
    "        \"**\": math.pow,\n",
    "    }\n",
    "    if c in list(builtin_functions.keys()):\n",
    "        return builtin_functions[c]\n",
    "    else:\n",
    "        return False \n",
    "\n"
   ]
  },
  {
   "cell_type": "code",
   "execution_count": 39,
   "metadata": {},
   "outputs": [
    {
     "name": "stdout",
     "output_type": "stream",
     "text": [
      "  2           0 LOAD_CONST               0 (6)\n",
      "              2 RETURN_VALUE\n",
      "None\n",
      "--- CODE OBJECT ARGUMENTS ---\n",
      "0\n",
      "0\n",
      "0\n",
      "1\n",
      "64\n",
      "b'd\\x00S\\x00'\n",
      "(None,)\n",
      "()\n",
      "()\n",
      "\n",
      "<module>\n",
      "1\n",
      "b'\\x00\\x01'\n",
      "()\n",
      "()\n"
     ]
    }
   ],
   "source": [
    "\n",
    "\n",
    "test_source_string = '''(/ (+ 5 (* 21323 3)) 1332222)'''\n",
    "lines = test_source_string.split('\\n')\n",
    "tokens = tokenize_source(lines, brackets=True)      # NOTE INFIX_CONVERTER DOES NOT WORK WITH brackets=True\n",
    "#ir_expr = infix_converter(tokens)\n",
    "ir_expr_F = \"\"\"\n",
    "def F():\n",
    "    print(%s)\n",
    "F()\n",
    "\"\"\" % ir_expr \n",
    "\n",
    "ir_expr_NoFunc = \"\"\" \n",
    "5 + 1\n",
    "\"\"\"\n",
    "\n",
    "\n",
    "# lets use the code object to get the bytecode and try to build a new code object \n",
    "# by understanding the instructions enoug. then, well try to emit the byte string\n",
    "# ourself without using a pre-existing code object (i.e. a call to 'compile()')\n",
    "pyvm_codeobj = compile(ir_expr_NoFunc, '', 'exec')\n",
    "pyvm_codeobj_arguments = (\n",
    "    pyvm_codeobj.co_argcount,\n",
    "    pyvm_codeobj.co_kwonlyargcount,\n",
    "    pyvm_codeobj.co_nlocals,\n",
    "    pyvm_codeobj.co_stacksize,\n",
    "    pyvm_codeobj.co_flags,\n",
    "    pyvm_codeobj.co_code,\n",
    "    pyvm_codeobj.co_consts,\n",
    "    pyvm_codeobj.co_names,\n",
    "    pyvm_codeobj.co_varnames,\n",
    "    pyvm_codeobj.co_filename,\n",
    "    pyvm_codeobj.co_name,\n",
    "    pyvm_codeobj.co_firstlineno,\n",
    "    pyvm_codeobj.co_lnotab, \n",
    "    pyvm_codeobj.co_freevars, \n",
    "    pyvm_codeobj.co_cellvars   \n",
    ")\n",
    "\n",
    "#print(ir_expr_F)\n",
    "print(dis.dis(ir_expr_NoFunc))\n",
    "exec(pyvm_codeobj)\n",
    "\n",
    "print('--- CODE OBJECT ARGUMENTS ---')\n",
    "for arg in pyvm_codeobj_arguments:\n",
    "    print(str(arg))\n",
    "\n",
    "\n",
    "##############################################################\n",
    "# ^ EVERYTHING ABOVE IS THE CODE OBJECT RETURNED BY compile() ^ \n",
    "# BELOW WE WILL GENERATE OUR OWN\n",
    "\n",
    "\n",
    "import struct \n",
    "import time \n",
    "import opcode, types \n",
    "import operator, math\n",
    "\n",
    "code = types.CodeType \n",
    "\n",
    "# globals for the code object that Python will eval/exec\n",
    "my_codeobj_args = []\n",
    "my_codeobj = None\n",
    "\n",
    "def fixed_compile (ir_expr_F):\n",
    "    global my_codeobj, my_codeobj_args\n",
    "    \n",
    "    my_codeobj_args.append(0)   # first three always 0\n",
    "    my_codeobj_args.append(0)  \n",
    "    my_codeobj_args.append(0)\n",
    "    my_codeobj_args.append(2)   # good for small programs\n",
    "    my_codeobj_args.append(64)  # what does flag 64 mean?\n",
    "    \n",
    "\"\"\" \n",
    "taken from https://github.com/aisk/pie/\n",
    "\"\"\" \n",
    "class Compiler (object):\n",
    "    def __init__ (self):\n",
    "        self.consts = [] \n",
    "        self.names = []\n",
    "        self.varnames = []\n",
    "        self.instructions = []\n",
    "        self.code_length = 0\n",
    "\n",
    "        # default return value on pyvm stack\n",
    "        self.LOAD_CONST(self.make_const(None))\n",
    "\n",
    "    def __getattr__ (self, name):\n",
    "        if name not in opcode.opmap:\n",
    "            return self.__getattribute__ (name)\n",
    "\n",
    "        def opfunc (*args):\n",
    "            if opcode.opname.index(name) > opcode.HAVE_ARGUMENT:\n",
    "                if len(args) < 1:\n",
    "                    sys.exit('not enough arguments to OPCODE')\n",
    "                \n",
    "                self.instructions.append(struct.pack('B', opcode.opmap[name]))\n",
    "                self.instructions.append(struct.pack('H', args[0]))\n",
    "                self.code_length += 3 \n",
    "            else:\n",
    "                self.codes.append(struct.pack('B', opcode.opmap[name]))\n",
    "                self.code_length += 1\n",
    "        \n",
    "        return opfunc \n",
    "\n",
    "    def make_const (self, value):\n",
    "        self.consts.append(value)\n",
    "        return len(self.consts) - 1 \n",
    "\n",
    "    def make_name(self, value):\n",
    "        self.names.append(value)\n",
    "        return len(self.names) - 1\n",
    "\n",
    "    def compile (self, form):\n",
    "        if type(form) == symbol_type:\n",
    "            self.LOAD_FAST(0)                           # symbols (variables etc., shouldnt exist yet?)\n",
    "        elif type(form) != list_type:\n",
    "            self.LOAD_CONST(self.make_const(form))      # anything that is not a symbol (str) and is not a List. for now this is just numbers\n",
    "        else:\n",
    "            func = form[0]\n",
    "            args = form[1:]\n",
    "\n",
    "            '''in order to harvest the results of calling compile() over args list we need to pop the stack but i dont know how to do this right yet'''\n",
    "            \"\"\"\n",
    "            if is_operator(func):                       # this just means its a builtin/primitive function which for now is just math stuff\n",
    "                # usually we would want to handle builtin functions\n",
    "                # i thought math operators were builtin functions by they are actually just const expressions which should be handled above?\n",
    "                # later we will have true builtins which we can define in a standard library quickLi source file\n",
    "                # what needs to happen is infix conversion of the current form, convert it to numeric, and recursive compile() call so it gets treated\n",
    "                # as a constant by the VM and gets LOAD_CONST (0)\n",
    "                operands = [self.compile(arg) for arg in args] # to ensure we have no nested operators\n",
    "                infix_expression = '%s %s %s' % (operands[0], func, operands[1])\n",
    "                self.compile(eval(\n",
    "\n",
    "                ))\n",
    "            \"\"\" \n",
    "            builtin = is_primitive_builtin(func)\n",
    "            # this just means its a builtin/primitive function which for now is just arithmatic operators\n",
    "            _lambda = lambda x: self.compile(x) if not builtin else builtin\n",
    "\n",
    "            self.LOAD_GLOBAL(self.make_name(func))  # this means its a Python builtin function and should be processed accordingly\n",
    "            map(_lambda, args)   \n",
    "            self.CALL_FUNCTION(len(args))\n",
    "\n",
    "    def build_pyvm_codeobj   \n"
   ]
  },
  {
   "cell_type": "code",
   "execution_count": 40,
   "metadata": {},
   "outputs": [
    {
     "ename": "IndexError",
     "evalue": "pop from empty list",
     "output_type": "error",
     "traceback": [
      "\u001b[0;31m---------------------------------------------------------------------------\u001b[0m",
      "\u001b[0;31mIndexError\u001b[0m                                Traceback (most recent call last)",
      "\u001b[0;32m/tmp/ipykernel_7497/3741651151.py\u001b[0m in \u001b[0;36m<module>\u001b[0;34m\u001b[0m\n\u001b[1;32m      1\u001b[0m \u001b[0;31m# the 'compiler'\u001b[0m\u001b[0;34m\u001b[0m\u001b[0;34m\u001b[0m\u001b[0;34m\u001b[0m\u001b[0m\n\u001b[0;32m----> 2\u001b[0;31m \u001b[0mcode_obj\u001b[0m \u001b[0;34m=\u001b[0m \u001b[0mcompile\u001b[0m\u001b[0;34m(\u001b[0m\u001b[0;34m\"print(\"\u001b[0m\u001b[0;34m+\u001b[0m\u001b[0minfix_converter\u001b[0m\u001b[0;34m(\u001b[0m\u001b[0mtokens\u001b[0m\u001b[0;34m)\u001b[0m\u001b[0;34m+\u001b[0m\u001b[0;34m\")\"\u001b[0m\u001b[0;34m,\u001b[0m \u001b[0;34m\"\"\u001b[0m\u001b[0;34m,\u001b[0m \u001b[0;34m\"exec\"\u001b[0m\u001b[0;34m)\u001b[0m\u001b[0;34m\u001b[0m\u001b[0;34m\u001b[0m\u001b[0m\n\u001b[0m\u001b[1;32m      3\u001b[0m \u001b[0mbyte_string\u001b[0m \u001b[0;34m=\u001b[0m \u001b[0mcode_obj\u001b[0m\u001b[0;34m.\u001b[0m\u001b[0mco_code\u001b[0m\u001b[0;34m\u001b[0m\u001b[0;34m\u001b[0m\u001b[0m\n\u001b[1;32m      4\u001b[0m \u001b[0;34m\u001b[0m\u001b[0m\n\u001b[1;32m      5\u001b[0m \u001b[0mascii\u001b[0m \u001b[0;34m=\u001b[0m \u001b[0;34m[\u001b[0m\u001b[0mint\u001b[0m\u001b[0;34m(\u001b[0m\u001b[0mb\u001b[0m\u001b[0;34m)\u001b[0m \u001b[0;32mfor\u001b[0m \u001b[0mb\u001b[0m \u001b[0;32min\u001b[0m \u001b[0mbyte_string\u001b[0m\u001b[0;34m]\u001b[0m\u001b[0;34m\u001b[0m\u001b[0;34m\u001b[0m\u001b[0m\n",
      "\u001b[0;32m/tmp/ipykernel_7497/445499869.py\u001b[0m in \u001b[0;36minfix_converter\u001b[0;34m(s_expr_tokens)\u001b[0m\n\u001b[1;32m     92\u001b[0m             \u001b[0mi\u001b[0m \u001b[0;34m-=\u001b[0m \u001b[0;36m1\u001b[0m\u001b[0;34m\u001b[0m\u001b[0;34m\u001b[0m\u001b[0m\n\u001b[1;32m     93\u001b[0m         \u001b[0;32melse\u001b[0m\u001b[0;34m:\u001b[0m\u001b[0;34m\u001b[0m\u001b[0;34m\u001b[0m\u001b[0m\n\u001b[0;32m---> 94\u001b[0;31m             \u001b[0mexpr\u001b[0m \u001b[0;34m=\u001b[0m \u001b[0;34m\"(\"\u001b[0m \u001b[0;34m+\u001b[0m \u001b[0mstack\u001b[0m\u001b[0;34m.\u001b[0m\u001b[0mpop\u001b[0m\u001b[0;34m(\u001b[0m\u001b[0;34m)\u001b[0m \u001b[0;34m+\u001b[0m \u001b[0mcurrent_tok\u001b[0m \u001b[0;34m+\u001b[0m \u001b[0mstack\u001b[0m\u001b[0;34m.\u001b[0m\u001b[0mpop\u001b[0m\u001b[0;34m(\u001b[0m\u001b[0;34m)\u001b[0m \u001b[0;34m+\u001b[0m \u001b[0;34m\")\"\u001b[0m\u001b[0;34m\u001b[0m\u001b[0;34m\u001b[0m\u001b[0m\n\u001b[0m\u001b[1;32m     95\u001b[0m             \u001b[0mstack\u001b[0m\u001b[0;34m.\u001b[0m\u001b[0mappend\u001b[0m\u001b[0;34m(\u001b[0m\u001b[0mexpr\u001b[0m\u001b[0;34m)\u001b[0m\u001b[0;34m\u001b[0m\u001b[0;34m\u001b[0m\u001b[0m\n\u001b[1;32m     96\u001b[0m             \u001b[0mi\u001b[0m \u001b[0;34m-=\u001b[0m \u001b[0;36m1\u001b[0m\u001b[0;34m\u001b[0m\u001b[0;34m\u001b[0m\u001b[0m\n",
      "\u001b[0;31mIndexError\u001b[0m: pop from empty list"
     ]
    }
   ],
   "source": [
    "# NOTE: fails because calling infix_expression_converter over tokens generated including parenthesis\n",
    "\n",
    "# the 'compiler'\n",
    "code_obj = compile(\"print(\"+infix_converter(tokens)+\")\", \"\", \"exec\")\n",
    "byte_string = code_obj.co_code\n",
    "\n",
    "ascii = [int(b) for b in byte_string]\n",
    "    \n",
    "# get opcode mnemonics using dis module \n",
    "i = 0\n",
    "while i <= len(ascii) - 1:\n",
    "    print(dis.opname[ascii[i]], ascii[i + 1])\n",
    "    i += 2\n",
    "# more effective\n",
    "dis.dis(infix_converter(tokens))\n",
    "\n",
    "# save the .pyc file so i can run it with python interpreter\n",
    "import importlib, sys\n",
    "pyc_data = importlib._bootstrap_external._code_to_timestamp_pyc(code_obj)\n",
    "with open('output.pyc', 'wb') as f:\n",
    "    f.write(pyc_data)"
   ]
  },
  {
   "cell_type": "code",
   "execution_count": 32,
   "metadata": {},
   "outputs": [
    {
     "data": {
      "text/plain": [
       "['/', ['+', 5, ['*', 21323, 3]], 1332222]"
      ]
     },
     "execution_count": 32,
     "metadata": {},
     "output_type": "execute_result"
    }
   ],
   "source": [
    "parse(tokens)"
   ]
  },
  {
   "cell_type": "code",
   "execution_count": null,
   "metadata": {},
   "outputs": [],
   "source": []
  }
 ],
 "metadata": {
  "kernelspec": {
   "display_name": "Python 3 (ipykernel)",
   "language": "python",
   "name": "python3"
  },
  "language_info": {
   "codemirror_mode": {
    "name": "ipython",
    "version": 3
   },
   "file_extension": ".py",
   "mimetype": "text/x-python",
   "name": "python",
   "nbconvert_exporter": "python",
   "pygments_lexer": "ipython3",
   "version": "3.7.17"
  },
  "orig_nbformat": 4
 },
 "nbformat": 4,
 "nbformat_minor": 2
}
