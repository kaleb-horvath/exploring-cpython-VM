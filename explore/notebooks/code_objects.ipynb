{
 "cells": [
  {
   "cell_type": "markdown",
   "metadata": {},
   "source": [
    "#### Ensuring environment"
   ]
  },
  {
   "cell_type": "code",
   "execution_count": 4,
   "metadata": {},
   "outputs": [
    {
     "name": "stdout",
     "output_type": "stream",
     "text": [
      "Python 3.7.17\n",
      "/home/chairs/workspace/personal-projects/lisp-compiler/quickLi/venv/bin/python\n"
     ]
    }
   ],
   "source": [
    "!python --version\n",
    "!which python"
   ]
  },
  {
   "cell_type": "markdown",
   "metadata": {},
   "source": [
    "#### Exploring dis module"
   ]
  },
  {
   "cell_type": "code",
   "execution_count": 3,
   "metadata": {},
   "outputs": [],
   "source": [
    "import sys, struct\n",
    "import dis \n",
    "import opcode\n",
    "import types"
   ]
  },
  {
   "cell_type": "markdown",
   "metadata": {},
   "source": [
    "**Notes**\n",
    "\n",
    "To compile a string containing Python source code and return a code object containing stack machine instructions and relevant memory addresses.\n",
    "`compile(source, filename, mode, flag, dont_inherit, optimize)`\\\n",
    "`source` - String, Bytes object, or AST object. source code to compile\\\n",
    "`filenme` - String, location of source code string if applicable\\\n",
    "`mode` - robustness of call (exec, eval, single, etc.)"
   ]
  },
  {
   "cell_type": "code",
   "execution_count": 4,
   "metadata": {},
   "outputs": [
    {
     "name": "stdout",
     "output_type": "stream",
     "text": [
      "<class 'code'>\n",
      "26042424247\n"
     ]
    }
   ],
   "source": [
    "source = '''\n",
    "x = 5\n",
    "x += 26042424242\n",
    "print(x)\n",
    "'''\n",
    "c = compile(source, '', 'exec')\n",
    "print(type(c))\n",
    "eval(c)"
   ]
  },
  {
   "cell_type": "code",
   "execution_count": 27,
   "metadata": {},
   "outputs": [
    {
     "data": {
      "text/plain": [
       "b'd\\x00Z\\x00e\\x00d\\x017\\x00Z\\x00e\\x01e\\x00\\x83\\x01\\x01\\x00d\\x02S\\x00'"
      ]
     },
     "execution_count": 27,
     "metadata": {},
     "output_type": "execute_result"
    }
   ],
   "source": [
    "c.co_code"
   ]
  },
  {
   "cell_type": "markdown",
   "metadata": {},
   "source": [
    "The result is a bytes literal which is prefixed with b'. It is an immutable sequence of bytes and has a type of bytes. Each byte can have a decimal value of 0 to 255. So a bytes literal is an immutable sequence of integers between 0 to 255. Each byte can be shown by an ASCII character whose character code is the same as the byte value or it can be shown by a leading \\x followed by two characters. The leading \\x escape means that the next two characters are interpreted as hex digits for the character code."
   ]
  },
  {
   "cell_type": "code",
   "execution_count": 5,
   "metadata": {},
   "outputs": [
    {
     "name": "stdout",
     "output_type": "stream",
     "text": [
      "LOAD_CONST 0\n",
      "STORE_NAME 0\n",
      "LOAD_NAME 0\n",
      "LOAD_CONST 1\n",
      "INPLACE_ADD 0\n",
      "STORE_NAME 0\n",
      "LOAD_NAME 1\n",
      "LOAD_NAME 0\n",
      "CALL_FUNCTION 1\n",
      "POP_TOP 0\n",
      "LOAD_CONST 2\n",
      "RETURN_VALUE 0\n"
     ]
    }
   ],
   "source": [
    "ascii = [int(b) for b in c.co_code]\n",
    "    \n",
    "# get opcode mnemonics using dis module \n",
    "i = 0\n",
    "while i <= len(ascii) - 1:\n",
    "    print(dis.opname[ascii[i]], ascii[i + 1])\n",
    "    i += 2\n",
    "# more effective\n",
    "# dis.dis(source)"
   ]
  },
  {
   "cell_type": "markdown",
   "metadata": {},
   "source": [
    "When the interpreter executes EXTENDED_ARG, its oparg (which is 1) is left-shifted by eight bits and stored in a temporary variable. Let’s call it extended_arg (do not confuse it with the opname EXTENDED_ARG). So the binary value 0b1 (the binary value of 1) is converted to 0b100000000. This is like multiplying 1 by 256 in the decimal system and extened_arg will be equal to 256. Now we have two bytes in extened_arg. When the interpreter reaches to the next instruction, this two-byte value is added to its oparg (which is 4 here) using a bitwise or\\\n",
    "`EXTENDED_ARG 1`\\\n",
    "`CALL_FUNCTION 4`\\\n",
    "is interpreted as:\n",
    "\n",
    "`EXTENDED_ARG 1`\\\n",
    "`CALL_FUNCTION 260`"
   ]
  },
  {
   "cell_type": "code",
   "execution_count": 30,
   "metadata": {},
   "outputs": [],
   "source": [
    "# sometimes we have opargs that do not fit in the default one byte\n",
    "extended_arg = 1 << 8 # same as 1 * 256\n",
    "extended_arg = extended_arg | 4\n",
    "# extended_arg = 256 + 4 = 260"
   ]
  },
  {
   "cell_type": "code",
   "execution_count": 10,
   "metadata": {},
   "outputs": [
    {
     "name": "stdout",
     "output_type": "stream",
     "text": [
      "  2           0 LOAD_CONST               0 (5)\n",
      "              2 STORE_NAME               0 (x)\n",
      "\n",
      "  3           4 LOAD_NAME                0 (x)\n",
      "              6 LOAD_CONST               1 (26042424242)\n",
      "              8 INPLACE_ADD\n",
      "             10 STORE_NAME               0 (x)\n",
      "\n",
      "  4          12 LOAD_NAME                1 (print)\n",
      "             14 LOAD_NAME                0 (x)\n",
      "             16 CALL_FUNCTION            1\n",
      "             18 POP_TOP\n",
      "             20 LOAD_CONST               2 (None)\n",
      "             22 RETURN_VALUE\n"
     ]
    }
   ],
   "source": [
    "dis.dis(source)"
   ]
  },
  {
   "cell_type": "markdown",
   "metadata": {},
   "source": [
    "### notes on compiler project\n",
    "primitive operations in quickLi should rely on native compilation routines in the dis module rather than manually emitting the corresponding instructions into a code object. for example, \n",
    "`(+ 5 1)` should become a Python source string `5 + 1` rather than bytecode. Then we will use dis to compile it. For now. This could be accomplished using pre-fix to infix conversion with a stack."
   ]
  },
  {
   "cell_type": "markdown",
   "metadata": {},
   "source": []
  }
 ],
 "metadata": {
  "kernelspec": {
   "display_name": "Python 3 (ipykernel)",
   "language": "python",
   "name": "python3"
  },
  "language_info": {
   "codemirror_mode": {
    "name": "ipython",
    "version": 3
   },
   "file_extension": ".py",
   "mimetype": "text/x-python",
   "name": "python",
   "nbconvert_exporter": "python",
   "pygments_lexer": "ipython3",
   "version": "3.7.17"
  },
  "orig_nbformat": 4
 },
 "nbformat": 4,
 "nbformat_minor": 2
}
